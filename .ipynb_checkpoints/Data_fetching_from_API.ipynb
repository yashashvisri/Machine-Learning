{
 "cells": [
  {
   "cell_type": "code",
   "execution_count": 1,
   "id": "c052f5ff",
   "metadata": {},
   "outputs": [
    {
     "name": "stdout",
     "output_type": "stream",
     "text": [
      "{'status': 'OK', 'request_id': '1216a2c3-a679-4de1-872c-4ea5fa69f755', 'data': [{'title': 'Online Store Builder—Create One Quickly (2023)', 'snippet': 'Create an online store with just a few steps: Choose an ecommerce platform; Add the products you want to sell; Create key pages for your store; Pick a theme and\\xa0...', 'url': 'https://www.shopify.com/online-store', 'domain': 'www.shopify.com', 'position': 1}, {'title': 'How To Start An Online Store In 8 Steps (2024 Guide)', 'snippet': '1. Pick a Viable Niche and Define Your Target Audience · 2. Choose Your Product Line · 3. Create Your Brand Name and Brand Assets · 4. Register\\xa0...', 'url': 'https://www.forbes.com/advisor/business/how-to-start-an-online-store/', 'domain': 'www.forbes.com', 'position': 2}, {'title': 'Sell Online - Build a Free Online Store or eCommerce Website', 'snippet': 'First, start by creating a free Square account. With a Square Online free plan, you can immediately start using our website builder to get your online store\\xa0...', 'url': 'https://squareup.com/us/en/online-store', 'domain': 'squareup.com', 'position': 3}, {'title': 'What is the best way to create an online store without having to pay anything ...', 'snippet': 'Sometimes you just have to suck it up and pay to get going. I believe SquareOnline and Shopify have low cost or free start-up options.', 'url': 'https://www.quora.com/What-is-the-best-way-to-create-an-online-store-without-having-to-pay-anything-upfront-or-building-my-own-website-from-scratch', 'domain': 'www.quora.com', 'position': 4}, {'title': 'How To Start an Online Store in 2024 (Step-by-Step Guide)', 'snippet': 'How to start an online store · Decide on a target audience · Find a business idea and choose your products · Choose an ecommerce platform\\xa0...', 'url': 'https://www.shopify.com/blog/start-online-store', 'domain': 'www.shopify.com', 'position': 5}, {'title': 'How to Create, Setup and Launch a Profitable Online Store', 'snippet': \"Ready to create an ecommerce store? Here's how to create, set up and launch a profitable store.\", 'url': 'https://www.bigcommerce.com/articles/ecommerce/create-online-store/', 'domain': 'www.bigcommerce.com', 'position': 6}, {'title': 'How to Start an Online Store in 10 Steps (2024 Guide)', 'snippet': 'Choose what to sell online. Decide on your business structure. Pick an eCommerce platform.', 'url': 'https://www.wix.com/blog/ecommerce/2019/10/how-to-start-an-online-store', 'domain': 'www.wix.com', 'position': 7}, {'title': 'Online Store Builder | Create an Ecommerce Website for Free', 'snippet': \"Create your online store and start selling today. GoDaddy's online store builder offers 100+ templates, flexible shipping, integrated payments and more.\", 'url': 'https://www.godaddy.com/websites/online-store', 'domain': 'www.godaddy.com', 'position': 8}, {'title': 'How are the ways to create an online store and the best online shop?', 'snippet': '1. Establish Ideas/thoughts about the items or products that you will sell online. · 2. Create your business a website (I can make one, just\\xa0...', 'url': 'https://www.quora.com/How-are-the-ways-to-create-an-online-store-and-the-best-online-shop', 'domain': 'www.quora.com', 'position': 9}, {'title': 'How to build an online store in 5 steps', 'snippet': 'To create an Amazon storefront, sign up for a Professional selling plan and enroll in Brand Registry to access the Amazon Stores builder in Seller Central: Go\\xa0...', 'url': 'https://sell.amazon.com/build-an-online-store', 'domain': 'sell.amazon.com', 'position': 10}, {'title': 'Online Store Builders: 7 Best Options for Your Website', 'snippet': 'Best online store builders: Key things to know · Shopify: Best overall online store builder · Square Online: Best free online store builder\\xa0...', 'url': 'https://www.nerdwallet.com/article/small-business/online-store-builder', 'domain': 'www.nerdwallet.com', 'position': 11}, {'title': 'Create a Free Online Store or eCommerce Website', 'snippet': 'Create a free online store with Freewebstore. Build your free online store, add your own products and start making your fortune with a free website powered\\xa0...', 'url': 'https://freewebstore.com/', 'domain': 'freewebstore.com', 'position': 12}, {'title': 'eCommerce Website Builder: Build An eCommerce Site', 'snippet': 'Sign up to a free eCommerce website builder. Choose a platform with built-in tools to grow your business. · Build your eCommerce website. · Add products to your\\xa0...', 'url': 'https://www.wix.com/ecommerce/website', 'domain': 'www.wix.com', 'position': 13}, {'title': 'How to start an online store in 2024 – full guide', 'snippet': 'Build your online store. A laptop displaying CSS code resting on a table. At a minimum, you need to launch your online store using a hosting\\xa0...', 'url': 'https://www.godaddy.com/resources/skills/how-to-start-an-online-store', 'domain': 'www.godaddy.com', 'position': 14}, {'title': 'Build Your Ecommerce Website and Start Selling Online', 'snippet': 'How to start an online store? · Create a free account and answer a few questions about your store. · Choose a design and colors based on the look you want. · Add\\xa0...', 'url': 'https://www.jimdo.com/website/online-store/', 'domain': 'www.jimdo.com', 'position': 15}, {'title': 'How to Start an Online Store in 2024 (Step by Step)', 'snippet': 'Step 1. Set up Your Online Store Platform (Hosting & Domain) · Step 2. Set Up Your WordPress Website · Step 3. Set Up Your WooCommerce Store · Step\\xa0...', 'url': 'https://www.wpbeginner.com/wp-tutorials/how-to-start-an-online-store/', 'domain': 'www.wpbeginner.com', 'position': 16}, {'title': 'Create an Online Store with Ecwid Ecommerce Builder for Free', 'snippet': 'Creating an online store with Ecwid (step-by-step) · Create a free Ecwid account. You can log in with your email, Google, or Facebook profile. · Connect your\\xa0...', 'url': 'https://www.ecwid.com/online-store', 'domain': 'www.ecwid.com', 'position': 17}, {'title': 'How to Build an Online Store: 9 Simple Steps', 'snippet': 'On this page · 1: Find Your Ecommerce Website Builder · 2: Choose The Best Plan · 3: Get A Domain Name · 4: Pick Your Template · 5: Customize Your Template · 6:\\xa0...', 'url': 'https://www.websitebuilderexpert.com/building-online-stores/', 'domain': 'www.websitebuilderexpert.com', 'position': 18}, {'title': 'Create your online store quickly and easily', 'snippet': 'Create a powerful and easy to use online store with shopping cart, payment processing and essential e-commerce features that will help you sell more.', 'url': 'https://www.mozello.com/create-online-store/', 'domain': 'www.mozello.com', 'position': 19}, {'title': 'How To Make An Online Store For Free (2024 Guide)', 'snippet': \"Shopify and BigCommerce are the two of the most popular e-commerce platforms. They're both great, but they also come with a price tag. If you\\xa0...\", 'url': 'https://www.forbes.com/advisor/business/free-online-store/', 'domain': 'www.forbes.com', 'position': 20}, {'title': 'Online Store Builder | Create a Website and Start Selling Today', 'snippet': 'Creating an online store is easy and fast with Hostinger. Select a professional template, customize it, and launch your store today.', 'url': 'https://www.hostinger.com/online-store', 'domain': 'www.hostinger.com', 'position': 21}, {'title': 'How To Create an Online Store: The Ultimate Guide', 'snippet': \"1. On your WooCommerce dashboard, click on the 'Bluehost' tab on the left-hand sidebar. 2. Go to the 'Store' tab. 3. Scroll down to the '\\xa0...\", 'url': 'https://www.bluehost.com/blog/how-to-set-up-your-online-store/', 'domain': 'www.bluehost.com', 'position': 22}, {'title': 'Setting up your online shop', 'snippet': 'Check off basic needs; Customise and create your site; Set up payment options; Set up shipping; Enable optional functionalities; Set up integrations; Publish\\xa0...', 'url': 'https://www.one.com/en/online-shop/create-your-own-online-shop', 'domain': 'www.one.com', 'position': 23}, {'title': 'How to start your online store', 'snippet': 'Hosting Does the platform give you the option of hosting your website on the cloud or does it require you to set up and manage your own server?', 'url': 'https://business.adobe.com/blog/how-to/online-store', 'domain': 'business.adobe.com', 'position': 24}, {'title': 'How to Start an Online Store: 7 Simple Steps - Tech.co', 'snippet': '7 Steps to Creating an Online Store · Choose an Ecommerce Website Builder · Create Your Brand · Design Your Website · Set Up an Inventory and Stock\\xa0...', 'url': 'https://tech.co/website-builders/start-online-store', 'domain': 'tech.co', 'position': 25}, {'title': 'Start selling online in minutes! | Jotform Store Builder', 'snippet': \"Here's how to build your store Hand Icon · Add products to your store · Customize your store to match your brand · 100+ Online Store Templates · Connect with 30+\\xa0...\", 'url': 'https://www.jotform.com/products/store-builder/', 'domain': 'www.jotform.com', 'position': 26}, {'title': 'Ecommerce Website Builder - Start an Online Store', 'snippet': \"How to create an ecommerce website · Find an ecommerce template and start your free trial. · Register or transfer your business's domain name. · Set up your online\\xa0...\", 'url': 'https://www.squarespace.com/ecommerce-website', 'domain': 'www.squarespace.com', 'position': 27}, {'title': 'The 6 best eCommerce website building platforms in 2024', 'snippet': \"If you're looking to build a full website where an online store is a part of things, but not the whole package, then Wix is your best option—at\\xa0...\", 'url': 'https://zapier.com/blog/best-ecommerce-shopping-cart-software/', 'domain': 'zapier.com', 'position': 28}, {'title': 'How to Create a Profitable Online Store in 2024 – Step by Step', 'snippet': 'Step 1: Choose an eCommerce platform; Step 2: Create a website; Step 3: Configure online store settings; Step 4: Customize online store; Step 5:\\xa0...', 'url': 'https://www.isitwp.com/how-to-create-an-online-store-step-by-step/', 'domain': 'www.isitwp.com', 'position': 29}, {'title': 'How to Start an Online Store: 8 Steps to a Profitable eCommerce Website', 'snippet': 'How to Start an Online Store: 8 Steps to a Profitable eCommerce Website.', 'url': 'https://www.hostinger.com/tutorials/how-to-start-an-online-store', 'domain': 'www.hostinger.com', 'position': 30}, {'title': 'Create an online store', 'snippet': 'Create your online store step by step: · Make sure you have the right legal status to open your online store · Choose the PrestaShop offer that best suits your\\xa0...', 'url': 'https://prestashop.com/create-online-store/', 'domain': 'prestashop.com', 'position': 31}, {'title': 'How to Start an Online Store (with Pictures)', 'snippet': 'Next, research and select e-commerce software for your site, which allows customers to view and purchase your product. Finally, set up an account with a bank or\\xa0...', 'url': 'https://www.wikihow.com/Start-an-Online-Store', 'domain': 'www.wikihow.com', 'position': 32}, {'title': 'How to Start an Online Store in 7 Steps', 'snippet': \"1. Hone your business idea · 2. Choose your online store's platform · 3. Source your store's products · 4. Pick a payment processor · 5. Learn about\\xa0...\", 'url': 'https://www.nerdwallet.com/article/small-business/how-to-start-an-online-store', 'domain': 'www.nerdwallet.com', 'position': 33}, {'title': 'Weebly eCommerce Website Builder - Create an Online Store', 'snippet': 'The Weebly eCommerce platform brings the ease of drag and drop website creation to product merchandising. Create rich product descriptions with slideshows and\\xa0...', 'url': 'https://www.weebly.com/features/ecommerce-website', 'domain': 'www.weebly.com', 'position': 34}, {'title': 'How To Create & Build An Online Highly Profitable Store In 2024 ...', 'snippet': 'Choose a theme for ten categories and hundreds of goods if you have three things. Avoid \"multi-purpose themes\" since they often contain excessive code. Before\\xa0...', 'url': 'https://platform.fynd.com/blog/how-to-create-an-online-store', 'domain': 'platform.fynd.com', 'position': 35}, {'title': 'How to create an online store', 'snippet': 'How to build an online store · 1. Products description and title. When a customer is interested in a particular product he/she would love to\\xa0...', 'url': 'https://www.techradar.com/how-to/how-to-create-an-online-store', 'domain': 'www.techradar.com', 'position': 36}, {'title': 'How to Set Up an Online Store', 'snippet': \"2. Create an online store · Store category — i.e., watches, bikes, home decor, etc. · Store Name · Payment information — how you're going to receive payments\\xa0...\", 'url': 'https://www.constantcontact.com/blog/how-to-set-up-an-online-store/', 'domain': 'www.constantcontact.com', 'position': 37}, {'title': '5 Options for Setting Up an Online Store', 'snippet': '1. Build an online store from scratch. · 2. Build your online store with WordPress. · 3. Use a website builder to create an online store. · 4. Set\\xa0...', 'url': 'https://www.business.com/articles/5-options-for-setting-up-an-online-store/', 'domain': 'www.business.com', 'position': 38}, {'title': '9 Steps to Start an Online Store that Actually Makes Money (According ...', 'snippet': 'Select your ecommerce niche. · Purchase a domain. · Choose your platform. · Pick a theme and customize it. · Add products. · Create a checkout funnel\\xa0...', 'url': 'https://blog.hubspot.com/website/how-to-start-online-store', 'domain': 'blog.hubspot.com', 'position': 39}, {'title': 'How to Build an Online Store for $0 in Less than 9 Minutes', 'snippet': 'Creating an online store so you can sell your products and services is easier than you think. And best of all, you can do it for free and\\xa0...', 'url': 'https://m.youtube.com/watch?v=0KJLgL_kxoc', 'domain': 'm.youtube.com', 'position': 40}, {'title': 'Ecommerce Store Builder - Build Your Online Store Without Coding', 'snippet': \"Builder Now is the easy way to create your free, clickable ecommerce store prototype – you don't need any tech skills and it takes less than 10 minutes. Start\\xa0...\", 'url': 'https://www.builder.ai/ecommerce', 'domain': 'www.builder.ai', 'position': 41}, {'title': 'Step-by-Step Guide: How to Build an Online Store from Scratch in 2024', 'snippet': 'A Step-by-Step Guide to Build an Online Store Successfully · Do Some research about your target market · Selecting the Right Domain Name for Your Web Shop\\xa0...', 'url': 'https://www.icecubedigital.com/blog/how-to-build-an-online-store-from-scratch-step-by-step-guide/', 'domain': 'www.icecubedigital.com', 'position': 42}, {'title': '#1 Free Ecommerce Shopping Cart & Free Online Store - Try Ecwid!', 'snippet': \"We're putting free trials on trial. With Ecwid, you get free FOREVER. Set up your free account once, and keep it as long as you like. Seriously.\", 'url': 'https://www.ecwid.com/', 'domain': 'www.ecwid.com', 'position': 43}, {'title': 'eCommerce Website Builder - Online Store', 'snippet': 'Set up shop ... Build your mobile-optimized eCommerce website, list your products or services, and connect your free domain name.', 'url': 'https://www.ionos.com/ecommerce-solutions/ecommerce-website-builder', 'domain': 'www.ionos.com', 'position': 44}, {'title': 'How To Set Up Your Online Store In 6 Easy Steps: Tips and Tricks', 'snippet': 'Follow our step-by-step guide to get started on your online shop: · 1. Choose the right ecommerce platform · 2. Design your online store · 3.', 'url': 'https://startups.co.uk/websites/ecommerce/create-online-shop/', 'domain': 'startups.co.uk', 'position': 45}, {'title': 'Online Store - eCommerce Website Builder', 'snippet': 'add How do I build an online store? Sign up with Web.com. Choose your eCommerce website domain name. Design your online store. Create all your product listings.', 'url': 'https://www.web.com/websites/online-store-builder', 'domain': 'www.web.com', 'position': 46}, {'title': 'Sell Products with Free Online Store Builder', 'snippet': 'How to build an online store · Pick a Website.com ecommerce template - or easily add an online store to any design with the Website.com website builder. · Set up\\xa0...', 'url': 'https://www.website.com/online-store-builder/', 'domain': 'www.website.com', 'position': 47}, {'title': 'How to Start an Online Store in 2024 (Step by Step)', 'snippet': 'How to Start an Online Store in 2024 (Step by Step) · Step 2: Setting up E-Commerce with WooCommerce · Step 3: Finding Products to Sell · Step 4: Adding Products\\xa0...', 'url': 'https://www.greengeeks.com/how-to-start-an-online-store', 'domain': 'www.greengeeks.com', 'position': 48}, {'title': 'How to Start an Online Store Today in 10 Steps', 'snippet': '1. Define your eCommerce plan. · 2. Choose an eCommerce platform. · 3. Customize your online store layout. · 4. Photograph items and set up product listings. · 5.', 'url': 'https://squareup.com/us/en/the-bottom-line/selling-anywhere/how-to-start-an-online-store', 'domain': 'squareup.com', 'position': 49}, {'title': '1 Launch your own online store | Free and easy', 'snippet': 'Create your own online store with our user friendly ecommerce website builder. Rated 4.5☆ SEO-ready ✓ Responsive ✓ Free domain ✓ Secure payment.', 'url': 'https://www.webador.com/create-online-store', 'domain': 'www.webador.com', 'position': 50}, {'title': 'How Do You Start an Online Store? A Step-by-Step Guide', 'snippet': 'Pick a Product or Niche · Pick a Website Builder or Platform · Choose a Template · Add Products · Customize Your Store · Set up a Shipping Method.', 'url': 'https://digital.com/how-to-start-an-online-store/', 'domain': 'digital.com', 'position': 51}, {'title': 'How to Create an Online Store in 13 Easy Steps', 'snippet': \"How to Create an Online Store Step-by-Step · Decide what you're selling · Pick a name and buy your domain · Choose a web hosting service · Create your products.\", 'url': 'https://www.business.org/services/website/how-to-create-an-online-store/', 'domain': 'www.business.org', 'position': 52}, {'title': 'How to Start an Online Store in 5 Steps', 'snippet': \"The store builder is the platform you'll use to design and build out your new e-commerce store. There are a lot of different e-commerce website builders to\\xa0...\", 'url': 'https://mailchimp.com/resources/how-to-start-online-store/', 'domain': 'mailchimp.com', 'position': 53}, {'title': 'Free Online Store Builder - Create Your Free eCommerce Website on ...', 'snippet': 'Use Instamojo online store builder to create your free eCommerce website with an in-built payment gateway & ship all over India.', 'url': 'https://www.instamojo.com/online-store/', 'domain': 'www.instamojo.com', 'position': 54}, {'title': 'How to create an online store, for small and medium businesses', 'snippet': \"Creating an online store for your products and services doesn't require coding expertise or a large financial investment. Many visual web\\xa0...\", 'url': 'https://webflow.com/blog/create-an-online-store', 'domain': 'webflow.com', 'position': 55}, {'title': '7 Best Ecommerce Website Builders | Grow Online in 2024 - Tech.co', 'snippet': 'Wix is excellent for creating online stores. If you want to make a small store, a boutique website, or a site to sell products associated with\\xa0...', 'url': 'https://tech.co/website-builders/best-ecommerce-website-builders', 'domain': 'tech.co', 'position': 56}, {'title': 'How to Build a (Successful) Ecommerce Website', 'snippet': \"An ecommerce site enables you to reach new customers online that you couldn't reach with only brick-and-mortar sales. 2. Create unique shopping experiences.\", 'url': 'https://www.bigcommerce.com/blog/build-an-ecommerce-website/', 'domain': 'www.bigcommerce.com', 'position': 57}, {'title': 'Create Your Online Store on Tilda', 'snippet': 'Build a powerful online store on Tilda website builder. Use eCommerce templates, add a shopping cart, Product Catalog, integrate payment systems, and more.', 'url': 'https://tilda.cc/lp/build-online-store/', 'domain': 'tilda.cc', 'position': 58}, {'title': 'How to Build an E-commerce Website: Your 2024 Guide', 'snippet': '1. Define your e-commerce business model. · 2. Choose an e-commerce platform. · 3. Start customizing your website. · 4. Set up your online store.', 'url': 'https://www.coursera.org/articles/ecommerce-website', 'domain': 'www.coursera.org', 'position': 59}, {'title': 'eCommerce Website Builder | How to build ...', 'snippet': \"You'll need an eCommerce website builder — a platform for building a website specifically for selling online, handling customers, and running your business.\", 'url': 'https://www.shift4shop.com/build-ecommerce-website.htm', 'domain': 'www.shift4shop.com', 'position': 60}, {'title': 'How To Start An Online Store Or Boutique In 6 Easy Steps', 'snippet': \"With the latest advances in technology, it's now easier than ever to set up a profitable online store. For example, when my wife and I first started in\\xa0...\", 'url': 'https://mywifequitherjob.com/create-a-profitable-online-store-in-5-easy-steps/', 'domain': 'mywifequitherjob.com', 'position': 61}, {'title': 'How to Start an Online Store - Step by Step Guide (2024)', 'snippet': 'First, you need to decide on the platform for your online store. The decision should be based on the features available, ease of use, pricing,\\xa0...', 'url': 'https://www.blogtyrant.com/how-to-start-an-online-store/', 'domain': 'www.blogtyrant.com', 'position': 62}, {'title': 'How to Start an Online Store With WordPress: Ultimate Guide', 'snippet': 'Chapter 2: Pick an ecommerce platform; Chapter 3: Pick a name for your online store; Chapter 4: Get hosting and install WordPress; Chapter 5:\\xa0...', 'url': 'https://themeisle.com/blog/how-to-start-an-online-store/', 'domain': 'themeisle.com', 'position': 63}, {'title': 'Create an online store | Powerful store builder features - Zoho commerce', 'snippet': 'eCommerce platform to manage and market your online store. Marketing Automation. All-in-one marketing automation software. LandingPage. Smart landing page\\xa0...', 'url': 'https://www.zoho.com/commerce/build-an-online-store.html', 'domain': 'www.zoho.com', 'position': 64}, {'title': 'How to Create an Online Store For Your Business', 'snippet': \"Marketplaces are a great way on how to create an online store and generate revenue immediately. You're able to start selling right after the\\xa0...\", 'url': 'https://rubygarage.org/blog/how-to-create-an-online-store', 'domain': 'rubygarage.org', 'position': 65}, {'title': 'Set Up An Online Shop | Start Selling Online', 'snippet': \"How do I set up an online shop? You can easily create an online shop with our tool. Simply select 'Get started' above and choose the domain and hosting plan you\\xa0...\", 'url': 'https://www.one.com/en/online-shop', 'domain': 'www.one.com', 'position': 66}, {'title': 'How to Build an Online Store | CO', 'snippet': 'Start by taking photos of the products you are going to sell online. Make sure the photos are of high quality and well-lit. The templates you\\xa0...', 'url': 'https://www.uschamber.com/co/start/startup/how-to-build-online-stores', 'domain': 'www.uschamber.com', 'position': 67}, {'title': 'Create your online store with our AI Ecommerce Website Builder', 'snippet': 'Build a cutting-edge online store effortlessly using our AI-powered Ecommerce Website Builder. Unlock the power of artificial intelligence to craft a\\xa0...', 'url': 'https://10web.io/ai-ecommerce-website-builder/', 'domain': '10web.io', 'position': 68}, {'title': '23 tips to create a successful online store', 'snippet': '23 tips to create a successful online store · 1. Use online software to create your website · 2. Engaging web design · 3. Shopping cart and\\xa0...', 'url': 'https://www.postaffiliatepro.com/blog/tips-to-create-a-successful-online-store/', 'domain': 'www.postaffiliatepro.com', 'position': 69}, {'title': '9 Steps to Build an Online Store and Become Your Own Boss', 'snippet': '9 Steps to Build an Online Store and Become Your Own Boss · Step 1: Secure Your Web Hosting and Domain Name · Step 2: Set Up WordPress and\\xa0...', 'url': 'https://www.dreamhost.com/blog/how-to-build-online-store-become-boss/', 'domain': 'www.dreamhost.com', 'position': 70}, {'title': 'How to start an online store: 5 straightforward steps to success', 'snippet': 'Wix ecommerce Stores is beginner-friendly, offering numerous templates for creating content-rich online stores with simple drag-and-drop\\xa0...', 'url': 'https://www.builder.ai/blog/start-an-online-store', 'domain': 'www.builder.ai', 'position': 71}, {'title': 'How to Create an Online Store (the Easy Way)', 'snippet': 'Final thoughts on how to create an online store · Identify a profitable niche · Create a product line · Choose a reliable ecommerce platform and\\xa0...', 'url': 'https://domainwheel.com/how-to-create-an-online-store/', 'domain': 'domainwheel.com', 'position': 72}, {'title': 'Create a Successful Online Store in 2023 [A step-by-step guide]', 'snippet': 'How Do I Create My Online Store? · User-friendly UI and UX · High-quality images and visuals · Attractive color scheme · Selection of right\\xa0...', 'url': 'https://www.valueappz.com/blog/how-to-create-online-store', 'domain': 'www.valueappz.com', 'position': 73}, {'title': 'How to Start Your Online Store in 9 Steps', 'snippet': 'The first step in creating an online store is choosing an eCommerce platform to power it. Creating an online store by writing the code yourself\\xa0...', 'url': 'https://business.adobe.com/blog/perspectives/online-store', 'domain': 'business.adobe.com', 'position': 74}, {'title': 'How to create an online store', 'snippet': 'How to create an online store · Take your market and target into account. · Choose domain that is easily associated and register it. · Choose the platform.', 'url': 'https://bloomidea.com/en/blog/how-create-online-store', 'domain': 'bloomidea.com', 'position': 75}, {'title': 'How to Start an Online Store in 2024: 10 Easy Steps', 'snippet': 'Step 1: Choose Your Concept/Product · Step 2: Create a Business Plan · Step 3: Come Up With a Name · Step 4: Choose Your Online Platform · Step 5:\\xa0...', 'url': 'https://management.org/how-to-start-an-online-store', 'domain': 'management.org', 'position': 76}, {'title': 'Checklist to start an ecommerce business in 2024', 'snippet': 'Selling on your own domain is one option if you have the time, resources, and skills to customize a website, create a seamless online experience, and compete on\\xa0...', 'url': 'https://sell.amazon.com/learn/start-ecommerce-business', 'domain': 'sell.amazon.com', 'position': 77}, {'title': \"How to Start an Online Store in 8 Steps: A Beginner's Guide\", 'snippet': \"Next, you'll need to build your website. Because online stores are primarily visual platforms, you'll also need to have strong product pages and\\xa0...\", 'url': 'https://fitsmallbusiness.com/how-to-start-an-online-store/', 'domain': 'fitsmallbusiness.com', 'position': 78}, {'title': 'How to start an online store – Step by Step Guide', 'snippet': 'These include all the tools and features you need to build a profitable online store very quickly. An eCommerce site builder includes a shopping cart, product\\xa0...', 'url': 'https://www.shift4shop.com/start-an-online-store.html', 'domain': 'www.shift4shop.com', 'position': 79}, {'title': 'How to Use Shopify to Make Your Online Store Website (in 2023)', 'snippet': 'Step #1: Create a new Shopify account · Step #2: Add your first product · Step #3: Choose a theme · Step #4: Make design changes to your online\\xa0...', 'url': 'https://firstsiteguide.com/make-shopify-online-store/', 'domain': 'firstsiteguide.com', 'position': 80}, {'title': 'Online Store Builder - Build Your eCommerce Website', 'snippet': 'Strikingly features the most efficient and easiest ecommerce solution to get you started with your online store quickly. Simple Store enables you to build your\\xa0...', 'url': 'https://www.strikingly.com/content/online-store-builder/', 'domain': 'www.strikingly.com', 'position': 81}, {'title': 'How to Start an Online Store Without Inventory and Experience in 2024', 'snippet': \"2. Set Up Your eCommerce Store · Creating an online store is necessary for any business model, whether you're selling digital products or\\xa0...\", 'url': 'https://printify.com/blog/how-to-start-an-online-store-without-inventory/', 'domain': 'printify.com', 'position': 82}, {'title': 'How to Start Your Own Successful Ecommerce Business Today', 'snippet': \"To set up your online store and launch your business, you'll need an ecommerce platform — online software or space that will house your online store. From\\xa0...\", 'url': 'https://systeme.io/blog/build-ecommerce-business', 'domain': 'systeme.io', 'position': 83}, {'title': 'Ways of creating an online shop website (technical side of e- ...', 'snippet': 'Steps to create it all from scratch. · Planning and designing. · Creating a database. · Create an Admin control panel As I mentioned above, it is to control\\xa0...', 'url': 'https://bootcamp.uxdesign.cc/ways-of-creating-an-online-shop-website-technical-side-of-e-commerce-2b0ea6d67c98', 'domain': 'bootcamp.uxdesign.cc', 'position': 84}, {'title': 'Free AI eCommerce Website Builder to Create an Online Store', 'snippet': \"Create an eCommerce Website using AI with Appy Pie's best AI eCommerce website design & development company. Our free AI eCommerce Website\\xa0...\", 'url': 'https://www.appypie.com/ai-ecommerce-website-builder', 'domain': 'www.appypie.com', 'position': 85}, {'title': 'Start an Online Store Easy (E-commerce Website Builder)', 'snippet': 'You can create amazing online store in just minutes. Join our 45 million users and start selling online. · Simple and user-friendly e-commerce platform · Local\\xa0...', 'url': 'https://www.webnode.com/e-commerce/', 'domain': 'www.webnode.com', 'position': 86}, {'title': 'How To Start an Online Store with WordPress [Step-By-Step]', 'snippet': 'Choose your online store platforms · Create a WordPress site · Set up your online store on WordPress · Add your products · Accept payments · Send\\xa0...', 'url': 'https://formidableforms.com/how-to-start-an-online-store-with-wordpress/', 'domain': 'formidableforms.com', 'position': 87}, {'title': 'eCommerce Website Builder | Create an Online Store', 'snippet': 'The SITE123 system is perfect for small businesses. Choose your type of online store, add your products, define important settings such as tax and shipping, and\\xa0...', 'url': 'https://www.site123.com/ecommerce-website', 'domain': 'www.site123.com', 'position': 88}, {'title': 'How to create an online store (5 Steps to a stunning eCommerce website)', 'snippet': \"Installing and configuring the SureCart eCommerce plugin. First of all you'll need to create a free SureCart account. ... You can use it at no\\xa0...\", 'url': 'https://surecart.com/wordpress-tutorials/create-online-store/', 'domain': 'surecart.com', 'position': 89}, {'title': 'Online StoreBuilder | Create Your Own Ecommerce Store', 'snippet': 'Sell online in a snap with StoreBuilder: the only ecommerce website builder with premium features built-in. No coding, no fees.', 'url': 'https://www.nexcess.net/storebuilder/', 'domain': 'www.nexcess.net', 'position': 90}, {'title': 'How to Start an Online Store with Printful', 'snippet': 'Step 1: Create your Printful Account · Step 2: Link your Printful account with an ecommerce platform · Step 3: Pick your products · Step 4: Create\\xa0...', 'url': 'https://www.printful.com/blog/how-to-start-an-online-store-with-printful', 'domain': 'www.printful.com', 'position': 91}, {'title': 'Create Free Online Store | Online Store Builder', 'snippet': 'FatherShops is an All-In-One Online Store Builder For Dropshipping Digital Products E-Commerce. Create free online store today with our free\\xa0...', 'url': 'https://fathershops.com/', 'domain': 'fathershops.com', 'position': 92}, {'title': '6 Best Online Store Builders - Money', 'snippet': 'Best Online Store Builder Reviews · Best for Performance: Shopify · Best for Ease of Use: Wix · Best for Large Companies: BigCommerce · Best for\\xa0...', 'url': 'https://money.com/best-online-store-builders/', 'domain': 'money.com', 'position': 93}, {'title': 'eCommerce Website Builder — WordPress.com', 'snippet': 'Create an online store. WordPress.com gives you all the tools you need to publish content and sell products from the same platform. Create a powerful online\\xa0...', 'url': 'https://wordpress.com/ecommerce/', 'domain': 'wordpress.com', 'position': 94}, {'title': 'Sell your products online with e-commerce', 'snippet': '\"E-commerce” simply means buying and selling products and services online. If you want to accept payments on your website or set up an online store to sell\\xa0...', 'url': 'https://smallbusiness.withgoogle.com/free-google-training/ecommerce-solutions/', 'domain': 'smallbusiness.withgoogle.com', 'position': 95}, {'title': 'Online Store Builder - Create Your Online Store', 'snippet': \"A modern platform built to last! Online stores based in different countries have different needs. That's why Jumpseller provides a wide range of payment and\\xa0...\", 'url': 'https://jumpseller.com/', 'domain': 'jumpseller.com', 'position': 96}, {'title': 'Best Ecommerce Website Builders for 2024: Start Selling Now', 'snippet': 'Want to start selling products online? An ecommerce website builder is the easiest way to build your online store and generate brand visibility,\\xa0...', 'url': 'https://www.websitebuilderexpert.com/ecommerce-website-builders/', 'domain': 'www.websitebuilderexpert.com', 'position': 97}, {'title': 'Create Your Own Online Store in a Weekend', 'snippet': '... created by a third party that you can add to your online store system to make it perform extra functions, for example a loyalty program, product upsells, or\\xa0...', 'url': 'https://books.google.com/books?id=IF0lCgAAQBAJ&pg=PA171&lpg=PA171&dq=create+an+online+store&source=bl&ots=_G0xxKNEuT&sig=ACfU3U22NbMtnncj4US4ru_-USkpYSrH6A&hl=en', 'domain': 'books.google.com', 'position': 98}]}\n"
     ]
    }
   ],
   "source": [
    "import requests\n",
    "\n",
    "url = \"https://real-time-web-search.p.rapidapi.com/search\"\n",
    "\n",
    "querystring = {\"q\":\"create an online store\",\"limit\":\"100\"}\n",
    "\n",
    "headers = {\n",
    "\t\"X-RapidAPI-Key\": \"0a657586eemshae409bcee183d42p110ba6jsn073226c418bc\",\n",
    "\t\"X-RapidAPI-Host\": \"real-time-web-search.p.rapidapi.com\"\n",
    "}\n",
    "\n",
    "response = requests.get(url, headers=headers, params=querystring)\n",
    "\n",
    "print(response.json())"
   ]
  },
  {
   "cell_type": "code",
   "execution_count": 2,
   "id": "359fbcf0",
   "metadata": {},
   "outputs": [],
   "source": [
    "import pandas as pd\n",
    "import numpy as np"
   ]
  },
  {
   "cell_type": "code",
   "execution_count": 3,
   "id": "4f87c594",
   "metadata": {},
   "outputs": [
    {
     "data": {
      "text/html": [
       "<div>\n",
       "<style scoped>\n",
       "    .dataframe tbody tr th:only-of-type {\n",
       "        vertical-align: middle;\n",
       "    }\n",
       "\n",
       "    .dataframe tbody tr th {\n",
       "        vertical-align: top;\n",
       "    }\n",
       "\n",
       "    .dataframe thead th {\n",
       "        text-align: right;\n",
       "    }\n",
       "</style>\n",
       "<table border=\"1\" class=\"dataframe\">\n",
       "  <thead>\n",
       "    <tr style=\"text-align: right;\">\n",
       "      <th></th>\n",
       "      <th>status</th>\n",
       "      <th>request_id</th>\n",
       "      <th>data</th>\n",
       "    </tr>\n",
       "  </thead>\n",
       "  <tbody>\n",
       "    <tr>\n",
       "      <th>0</th>\n",
       "      <td>OK</td>\n",
       "      <td>1216a2c3-a679-4de1-872c-4ea5fa69f755</td>\n",
       "      <td>{'title': 'Online Store Builder—Create One Qui...</td>\n",
       "    </tr>\n",
       "    <tr>\n",
       "      <th>1</th>\n",
       "      <td>OK</td>\n",
       "      <td>1216a2c3-a679-4de1-872c-4ea5fa69f755</td>\n",
       "      <td>{'title': 'How To Start An Online Store In 8 S...</td>\n",
       "    </tr>\n",
       "    <tr>\n",
       "      <th>2</th>\n",
       "      <td>OK</td>\n",
       "      <td>1216a2c3-a679-4de1-872c-4ea5fa69f755</td>\n",
       "      <td>{'title': 'Sell Online - Build a Free Online S...</td>\n",
       "    </tr>\n",
       "    <tr>\n",
       "      <th>3</th>\n",
       "      <td>OK</td>\n",
       "      <td>1216a2c3-a679-4de1-872c-4ea5fa69f755</td>\n",
       "      <td>{'title': 'What is the best way to create an o...</td>\n",
       "    </tr>\n",
       "    <tr>\n",
       "      <th>4</th>\n",
       "      <td>OK</td>\n",
       "      <td>1216a2c3-a679-4de1-872c-4ea5fa69f755</td>\n",
       "      <td>{'title': 'How To Start an Online Store in 202...</td>\n",
       "    </tr>\n",
       "    <tr>\n",
       "      <th>...</th>\n",
       "      <td>...</td>\n",
       "      <td>...</td>\n",
       "      <td>...</td>\n",
       "    </tr>\n",
       "    <tr>\n",
       "      <th>93</th>\n",
       "      <td>OK</td>\n",
       "      <td>1216a2c3-a679-4de1-872c-4ea5fa69f755</td>\n",
       "      <td>{'title': 'eCommerce Website Builder — WordPre...</td>\n",
       "    </tr>\n",
       "    <tr>\n",
       "      <th>94</th>\n",
       "      <td>OK</td>\n",
       "      <td>1216a2c3-a679-4de1-872c-4ea5fa69f755</td>\n",
       "      <td>{'title': 'Sell your products online with e-co...</td>\n",
       "    </tr>\n",
       "    <tr>\n",
       "      <th>95</th>\n",
       "      <td>OK</td>\n",
       "      <td>1216a2c3-a679-4de1-872c-4ea5fa69f755</td>\n",
       "      <td>{'title': 'Online Store Builder - Create Your ...</td>\n",
       "    </tr>\n",
       "    <tr>\n",
       "      <th>96</th>\n",
       "      <td>OK</td>\n",
       "      <td>1216a2c3-a679-4de1-872c-4ea5fa69f755</td>\n",
       "      <td>{'title': 'Best Ecommerce Website Builders for...</td>\n",
       "    </tr>\n",
       "    <tr>\n",
       "      <th>97</th>\n",
       "      <td>OK</td>\n",
       "      <td>1216a2c3-a679-4de1-872c-4ea5fa69f755</td>\n",
       "      <td>{'title': 'Create Your Own Online Store in a W...</td>\n",
       "    </tr>\n",
       "  </tbody>\n",
       "</table>\n",
       "<p>98 rows × 3 columns</p>\n",
       "</div>"
      ],
      "text/plain": [
       "   status                            request_id  \\\n",
       "0      OK  1216a2c3-a679-4de1-872c-4ea5fa69f755   \n",
       "1      OK  1216a2c3-a679-4de1-872c-4ea5fa69f755   \n",
       "2      OK  1216a2c3-a679-4de1-872c-4ea5fa69f755   \n",
       "3      OK  1216a2c3-a679-4de1-872c-4ea5fa69f755   \n",
       "4      OK  1216a2c3-a679-4de1-872c-4ea5fa69f755   \n",
       "..    ...                                   ...   \n",
       "93     OK  1216a2c3-a679-4de1-872c-4ea5fa69f755   \n",
       "94     OK  1216a2c3-a679-4de1-872c-4ea5fa69f755   \n",
       "95     OK  1216a2c3-a679-4de1-872c-4ea5fa69f755   \n",
       "96     OK  1216a2c3-a679-4de1-872c-4ea5fa69f755   \n",
       "97     OK  1216a2c3-a679-4de1-872c-4ea5fa69f755   \n",
       "\n",
       "                                                 data  \n",
       "0   {'title': 'Online Store Builder—Create One Qui...  \n",
       "1   {'title': 'How To Start An Online Store In 8 S...  \n",
       "2   {'title': 'Sell Online - Build a Free Online S...  \n",
       "3   {'title': 'What is the best way to create an o...  \n",
       "4   {'title': 'How To Start an Online Store in 202...  \n",
       "..                                                ...  \n",
       "93  {'title': 'eCommerce Website Builder — WordPre...  \n",
       "94  {'title': 'Sell your products online with e-co...  \n",
       "95  {'title': 'Online Store Builder - Create Your ...  \n",
       "96  {'title': 'Best Ecommerce Website Builders for...  \n",
       "97  {'title': 'Create Your Own Online Store in a W...  \n",
       "\n",
       "[98 rows x 3 columns]"
      ]
     },
     "execution_count": 3,
     "metadata": {},
     "output_type": "execute_result"
    }
   ],
   "source": [
    "df=pd.DataFrame(response.json())\n",
    "df"
   ]
  },
  {
   "cell_type": "code",
   "execution_count": 4,
   "id": "e029a41e",
   "metadata": {},
   "outputs": [
    {
     "data": {
      "text/plain": [
       "(98, 3)"
      ]
     },
     "execution_count": 4,
     "metadata": {},
     "output_type": "execute_result"
    }
   ],
   "source": [
    "df.shape"
   ]
  },
  {
   "cell_type": "code",
   "execution_count": 5,
   "id": "072e0dd4",
   "metadata": {},
   "outputs": [],
   "source": [
    "df.to_csv('real_time_world_search.csv')"
   ]
  },
  {
   "cell_type": "code",
   "execution_count": null,
   "id": "abb38b5a",
   "metadata": {},
   "outputs": [],
   "source": []
  }
 ],
 "metadata": {
  "kernelspec": {
   "display_name": "Python 3 (ipykernel)",
   "language": "python",
   "name": "python3"
  },
  "language_info": {
   "codemirror_mode": {
    "name": "ipython",
    "version": 3
   },
   "file_extension": ".py",
   "mimetype": "text/x-python",
   "name": "python",
   "nbconvert_exporter": "python",
   "pygments_lexer": "ipython3",
   "version": "3.11.4"
  }
 },
 "nbformat": 4,
 "nbformat_minor": 5
}
